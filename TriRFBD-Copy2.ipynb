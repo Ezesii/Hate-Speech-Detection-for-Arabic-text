{
 "cells": [
  {
   "cell_type": "raw",
   "id": "2f30be81-f0c6-46fb-af59-2c3dd2cca5dc",
   "metadata": {},
   "source": [
    "Edureka (2022) Random Forest algorithm | random forest complete explanation | data science training | edureka, YouTube. Available at: https://www.youtube.com/watch?v=3LQI-w7-FuE (Accessed: 17 September 2023). "
   ]
  },
  {
   "cell_type": "markdown",
   "id": "bd9e14ec-0da1-43f5-a312-507367678733",
   "metadata": {},
   "source": [
    "# Random Forest using Balanced Dataset + Word ngrams"
   ]
  },
  {
   "cell_type": "code",
   "execution_count": 1,
   "id": "cb471a9f-cbdf-4fcf-a252-1590eb3aed10",
   "metadata": {},
   "outputs": [
    {
     "data": {
      "text/html": [
       "<div>\n",
       "<style scoped>\n",
       "    .dataframe tbody tr th:only-of-type {\n",
       "        vertical-align: middle;\n",
       "    }\n",
       "\n",
       "    .dataframe tbody tr th {\n",
       "        vertical-align: top;\n",
       "    }\n",
       "\n",
       "    .dataframe thead th {\n",
       "        text-align: right;\n",
       "    }\n",
       "</style>\n",
       "<table border=\"1\" class=\"dataframe\">\n",
       "  <thead>\n",
       "    <tr style=\"text-align: right;\">\n",
       "      <th></th>\n",
       "      <th>Class</th>\n",
       "      <th>clean_text</th>\n",
       "    </tr>\n",
       "  </thead>\n",
       "  <tbody>\n",
       "    <tr>\n",
       "      <th>0</th>\n",
       "      <td>0</td>\n",
       "      <td>خيبة الأمل تشاؤما تقولا عزم لكفالة اليتيم بالع...</td>\n",
       "    </tr>\n",
       "    <tr>\n",
       "      <th>1</th>\n",
       "      <td>0</td>\n",
       "      <td>اسفا لجزره لماذا تنشر راهذا طرقه الاحرار</td>\n",
       "    </tr>\n",
       "    <tr>\n",
       "      <th>2</th>\n",
       "      <td>0</td>\n",
       "      <td>دار الحب لاتشتم اخوان امام العرب افهم اخ</td>\n",
       "    </tr>\n",
       "    <tr>\n",
       "      <th>3</th>\n",
       "      <td>0</td>\n",
       "      <td>السيد الملاح</td>\n",
       "    </tr>\n",
       "    <tr>\n",
       "      <th>4</th>\n",
       "      <td>0</td>\n",
       "      <td>ابتسمة جزائرية بنكهة فلسطنية ه</td>\n",
       "    </tr>\n",
       "  </tbody>\n",
       "</table>\n",
       "</div>"
      ],
      "text/plain": [
       "   Class                                         clean_text\n",
       "0      0  خيبة الأمل تشاؤما تقولا عزم لكفالة اليتيم بالع...\n",
       "1      0           اسفا لجزره لماذا تنشر راهذا طرقه الاحرار\n",
       "2      0           دار الحب لاتشتم اخوان امام العرب افهم اخ\n",
       "3      0                                       السيد الملاح\n",
       "4      0                     ابتسمة جزائرية بنكهة فلسطنية ه"
      ]
     },
     "execution_count": 1,
     "metadata": {},
     "output_type": "execute_result"
    }
   ],
   "source": [
    "import numpy as np\n",
    "import re\n",
    "from sklearn.datasets import load_files\n",
    "import pickle\n",
    "import string\n",
    "import pandas as pd\n",
    "df = pd.read_csv('UseThisClean.csv')\n",
    "X = df['clean_text']\n",
    "y = df['Class']\n",
    "df.head()"
   ]
  },
  {
   "cell_type": "code",
   "execution_count": 2,
   "id": "755a5688-719a-4a03-9a24-cbc0e7e79ab5",
   "metadata": {},
   "outputs": [],
   "source": [
    "import pandas as pd\n",
    "from sklearn.feature_extraction.text import CountVectorizer\n",
    "\n",
    "# Handle missing values in data\n",
    "df['clean_text'] = df['clean_text'].fillna('')\n",
    "\n",
    "# Convert the cleaned text to Unicode if necessary\n",
    "df['clean_text'] = df['clean_text'].astype(str)\n",
    "\n",
    "# Initialize CountVectorizer with word n-grams\n",
    "ngram_range = (3, 3)  # Use 1-word (unigram) n-grams\n",
    "vectorizer = CountVectorizer(max_features=9000, min_df=2, max_df=0.95, ngram_range=ngram_range)\n",
    "\n",
    "# Fit and transform the cleaned text using CountVectorizer with word n-grams\n",
    "X = vectorizer.fit_transform(df['clean_text'])\n"
   ]
  },
  {
   "cell_type": "code",
   "execution_count": 3,
   "id": "0623675d-f0ae-4dae-b21f-92961b4e388c",
   "metadata": {},
   "outputs": [
    {
     "data": {
      "text/plain": [
       "RandomForestClassifier(random_state=42)"
      ]
     },
     "execution_count": 3,
     "metadata": {},
     "output_type": "execute_result"
    }
   ],
   "source": [
    "from sklearn.model_selection import train_test_split\n",
    "from sklearn.ensemble import RandomForestClassifier\n",
    "\n",
    "# Split the data into training and testing sets\n",
    "X_train, X_test, y_train, y_test = train_test_split(X, df['Class'], test_size=0.2, random_state=42)\n",
    "\n",
    "from sklearn.ensemble import RandomForestClassifier\n",
    "\n",
    "# Initialize the Naive Bayes classifier\n",
    "\n",
    "classifier = RandomForestClassifier(n_estimators=100, random_state=42)\n",
    "\n",
    "\n",
    "# Fit the classifier on the training data\n",
    "\n",
    "classifier.fit(X_train, y_train) "
   ]
  },
  {
   "cell_type": "code",
   "execution_count": 4,
   "id": "d04015a5-c8a3-428e-8b91-f65b5b15790a",
   "metadata": {},
   "outputs": [],
   "source": [
    "y_pred = classifier.predict(X_test)"
   ]
  },
  {
   "cell_type": "code",
   "execution_count": 5,
   "id": "42b6bd12-a55d-47be-8238-83217b280490",
   "metadata": {},
   "outputs": [
    {
     "name": "stdout",
     "output_type": "stream",
     "text": [
      "[[ 97 737   0]\n",
      " [ 32 735   7]\n",
      " [  2 659  75]]\n",
      "              precision    recall  f1-score   support\n",
      "\n",
      "           0       0.74      0.12      0.20       834\n",
      "           1       0.34      0.95      0.51       774\n",
      "           2       0.91      0.10      0.18       736\n",
      "\n",
      "    accuracy                           0.39      2344\n",
      "   macro avg       0.67      0.39      0.30      2344\n",
      "weighted avg       0.66      0.39      0.30      2344\n",
      "\n",
      "0.3869453924914676\n"
     ]
    }
   ],
   "source": [
    "from sklearn.metrics import classification_report, confusion_matrix, accuracy_score\n",
    "\n",
    "print(confusion_matrix(y_test,y_pred))\n",
    "print(classification_report(y_test,y_pred))\n",
    "print(accuracy_score(y_test, y_pred))"
   ]
  },
  {
   "cell_type": "code",
   "execution_count": null,
   "id": "cc726ff2-8ede-4b85-9901-8869b9b6e63f",
   "metadata": {},
   "outputs": [],
   "source": []
  }
 ],
 "metadata": {
  "kernelspec": {
   "display_name": "Python 3 (ipykernel)",
   "language": "python",
   "name": "python3"
  },
  "language_info": {
   "codemirror_mode": {
    "name": "ipython",
    "version": 3
   },
   "file_extension": ".py",
   "mimetype": "text/x-python",
   "name": "python",
   "nbconvert_exporter": "python",
   "pygments_lexer": "ipython3",
   "version": "3.7.16"
  }
 },
 "nbformat": 4,
 "nbformat_minor": 5
}
