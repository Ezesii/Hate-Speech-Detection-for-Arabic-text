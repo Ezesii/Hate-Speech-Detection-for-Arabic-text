{
 "cells": [
  {
   "cell_type": "raw",
   "id": "8bc3aca9-667b-44d9-a1ac-b8f165a9c3ea",
   "metadata": {},
   "source": [
    "Awan, A.A. and Navlani, A. (2023) Naive Bayes classifier tutorial: With Python Scikit-Learn, DataCamp. Available at: https://www.datacamp.com/tutorial/naive-bayes-scikit-learn (Accessed: 17 September 2023). \n",
    "\n",
    "Naive Bayes classifier in Python (from scratch!) (2021) YouTube. Available at: https://www.youtube.com/watch?v=3I8oX3OUL6I (Accessed: 17 September 2023). "
   ]
  },
  {
   "cell_type": "markdown",
   "id": "e8a50504-ced1-4e2b-be25-bab1ab8c01fe",
   "metadata": {},
   "source": [
    "# Naive Bayes using Balanced Dataset + Word ngrams"
   ]
  },
  {
   "cell_type": "code",
   "execution_count": 11,
   "id": "7abec038-1c75-47d4-8260-59fca5c4568d",
   "metadata": {},
   "outputs": [
    {
     "data": {
      "text/html": [
       "<div>\n",
       "<style scoped>\n",
       "    .dataframe tbody tr th:only-of-type {\n",
       "        vertical-align: middle;\n",
       "    }\n",
       "\n",
       "    .dataframe tbody tr th {\n",
       "        vertical-align: top;\n",
       "    }\n",
       "\n",
       "    .dataframe thead th {\n",
       "        text-align: right;\n",
       "    }\n",
       "</style>\n",
       "<table border=\"1\" class=\"dataframe\">\n",
       "  <thead>\n",
       "    <tr style=\"text-align: right;\">\n",
       "      <th></th>\n",
       "      <th>Class</th>\n",
       "      <th>clean_text</th>\n",
       "    </tr>\n",
       "  </thead>\n",
       "  <tbody>\n",
       "    <tr>\n",
       "      <th>0</th>\n",
       "      <td>0</td>\n",
       "      <td>خيبة الأمل تشاؤما تقولا عزم لكفالة اليتيم بالع...</td>\n",
       "    </tr>\n",
       "    <tr>\n",
       "      <th>1</th>\n",
       "      <td>0</td>\n",
       "      <td>اسفا لجزره لماذا تنشر راهذا طرقه الاحرار</td>\n",
       "    </tr>\n",
       "    <tr>\n",
       "      <th>2</th>\n",
       "      <td>0</td>\n",
       "      <td>دار الحب لاتشتم اخوان امام العرب افهم اخ</td>\n",
       "    </tr>\n",
       "    <tr>\n",
       "      <th>3</th>\n",
       "      <td>0</td>\n",
       "      <td>السيد الملاح</td>\n",
       "    </tr>\n",
       "    <tr>\n",
       "      <th>4</th>\n",
       "      <td>0</td>\n",
       "      <td>ابتسمة جزائرية بنكهة فلسطنية ه</td>\n",
       "    </tr>\n",
       "  </tbody>\n",
       "</table>\n",
       "</div>"
      ],
      "text/plain": [
       "   Class                                         clean_text\n",
       "0      0  خيبة الأمل تشاؤما تقولا عزم لكفالة اليتيم بالع...\n",
       "1      0           اسفا لجزره لماذا تنشر راهذا طرقه الاحرار\n",
       "2      0           دار الحب لاتشتم اخوان امام العرب افهم اخ\n",
       "3      0                                       السيد الملاح\n",
       "4      0                     ابتسمة جزائرية بنكهة فلسطنية ه"
      ]
     },
     "execution_count": 11,
     "metadata": {},
     "output_type": "execute_result"
    }
   ],
   "source": [
    "import numpy as np\n",
    "import re\n",
    "from sklearn.datasets import load_files\n",
    "import pickle\n",
    "import string\n",
    "import pandas as pd\n",
    "df = pd.read_csv('UseThisClean.csv')\n",
    "X = df['clean_text']\n",
    "y = df['Class']\n",
    "df.head()"
   ]
  },
  {
   "cell_type": "code",
   "execution_count": 12,
   "id": "796b4c1a-1bb5-455c-a1aa-dd8d5f012a10",
   "metadata": {},
   "outputs": [],
   "source": [
    "import pandas as pd\n",
    "from sklearn.feature_extraction.text import CountVectorizer\n",
    "\n",
    "# Handle missing values in data\n",
    "df['clean_text'] = df['clean_text'].fillna('')\n",
    "\n",
    "# Convert the cleaned text to Unicode if necessary\n",
    "df['clean_text'] = df['clean_text'].astype(str)\n",
    "\n",
    "# Initialize CountVectorizer with word n-grams\n",
    "ngram_range = (2, 2)  # Use 2-word  n-grams\n",
    "vectorizer = CountVectorizer(max_features=9000, min_df=2, max_df=0.8, ngram_range=ngram_range)\n",
    "\n",
    "# Fit and transform the cleaned text using CountVectorizer with word n-grams\n",
    "X = vectorizer.fit_transform(df['clean_text'])\n"
   ]
  },
  {
   "cell_type": "code",
   "execution_count": 13,
   "id": "888f66ab-1dd7-403f-87a8-717e84e6aff0",
   "metadata": {},
   "outputs": [
    {
     "data": {
      "text/plain": [
       "MultinomialNB()"
      ]
     },
     "execution_count": 13,
     "metadata": {},
     "output_type": "execute_result"
    }
   ],
   "source": [
    "from sklearn.model_selection import train_test_split\n",
    "from sklearn.naive_bayes import MultinomialNB\n",
    "\n",
    "# Split the data into training and testing sets\n",
    "X_train, X_test, y_train, y_test = train_test_split(X, df['Class'], test_size=0.2)\n",
    "\n",
    "# Initialize the Naive Bayes classifier\n",
    "classifier = MultinomialNB()\n",
    "\n",
    "# Fit the classifier on the training data\n",
    "classifier.fit(X_train, y_train)\n"
   ]
  },
  {
   "cell_type": "code",
   "execution_count": 14,
   "id": "fe13663c-6eed-4919-9f48-22313c9e960a",
   "metadata": {},
   "outputs": [],
   "source": [
    "y_pred = classifier.predict(X_test)"
   ]
  },
  {
   "cell_type": "code",
   "execution_count": 15,
   "id": "256597c3-090f-4d6f-8a9c-1d6d0620c996",
   "metadata": {},
   "outputs": [
    {
     "name": "stdout",
     "output_type": "stream",
     "text": [
      "[[593 171  21]\n",
      " [431 316  62]\n",
      " [304  73 373]]\n",
      "              precision    recall  f1-score   support\n",
      "\n",
      "           0       0.45      0.76      0.56       785\n",
      "           1       0.56      0.39      0.46       809\n",
      "           2       0.82      0.50      0.62       750\n",
      "\n",
      "    accuracy                           0.55      2344\n",
      "   macro avg       0.61      0.55      0.55      2344\n",
      "weighted avg       0.61      0.55      0.55      2344\n",
      "\n",
      "0.5469283276450512\n"
     ]
    }
   ],
   "source": [
    "from sklearn.metrics import classification_report, confusion_matrix, accuracy_score\n",
    "\n",
    "print(confusion_matrix(y_test,y_pred))\n",
    "print(classification_report(y_test,y_pred))\n",
    "print(accuracy_score(y_test, y_pred))"
   ]
  },
  {
   "cell_type": "code",
   "execution_count": null,
   "id": "be97b1fd-2961-4801-910d-d19065cd94ef",
   "metadata": {},
   "outputs": [],
   "source": []
  }
 ],
 "metadata": {
  "kernelspec": {
   "display_name": "Python 3 (ipykernel)",
   "language": "python",
   "name": "python3"
  },
  "language_info": {
   "codemirror_mode": {
    "name": "ipython",
    "version": 3
   },
   "file_extension": ".py",
   "mimetype": "text/x-python",
   "name": "python",
   "nbconvert_exporter": "python",
   "pygments_lexer": "ipython3",
   "version": "3.7.16"
  }
 },
 "nbformat": 4,
 "nbformat_minor": 5
}
