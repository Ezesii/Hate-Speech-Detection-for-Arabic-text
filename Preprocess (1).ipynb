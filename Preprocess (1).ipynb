{
 "cells": [
  {
   "cell_type": "markdown",
   "id": "9daa9646-ca82-4d1c-b75c-d5276b91235c",
   "metadata": {},
   "source": [
    "## Data Preprocessing"
   ]
  },
  {
   "cell_type": "markdown",
   "id": "5d2f7bb6-0bf8-4d70-82cc-59fd5064b0c7",
   "metadata": {},
   "source": [
    "## In the provided code for the dataset, data preprocessing steps are performed to clean and prepare the text data for further analysis or modeling. The code includes the following data preprocessing steps:\n",
    "\n",
    "    Punctuation Removal: Punctuation marks (e.g., periods, commas, question marks) are removed from the text data. This step helps in eliminating unnecessary symbols that do not contribute to the meaning of the text.\n",
    "\n",
    "    Stopword Removal: Commonly used stopwords (e.g., \"the,\" \"and,\" \"is\") are removed from the text data. These words typically occur frequently in the language but do not carry significant meaning and can be safely removed to reduce noise in the data.\n",
    "\n",
    "    Special Character and Emoji Removal: Special characters and emojis are removed from the text data. Emojis, in particular, are non-textual symbols that can affect the analysis or modeling process if left in the data.\n",
    "\n",
    "    Digit Removal: Digits (numerical characters) are removed from the text data. In many cases, digits do not provide meaningful information in the context of text analysis.\n",
    "\n",
    "After performing these data preprocessing steps, the text data is cleaned and ready for further analysis or machine learning tasks. The clean data is then exported for use in subsequent stages of the data analysis pipeline. This ensures that the text data is in a suitable format and free from unnecessary noise.\n",
    "\n",
    "References for code: \n",
    "Text pre-processing using NLTK and python | datahour by dr. Nitin Shelke (2022) YouTube. Available at: https://www.youtube.com/watch?v=aF7NvdjSqfo&amp;t=1362s (Accessed: 17 September 2023). \n",
    "\n",
    "Text preprocessing in NLP | Python (2022) YouTube. Available at: https://www.youtube.com/watch?v=Br5dmsa49wo (Accessed: 17 September 2023). \n"
   ]
  },
  {
   "cell_type": "code",
   "execution_count": 7,
   "id": "9d53c88c-369b-421e-aec6-418cef1bb09a",
   "metadata": {},
   "outputs": [
    {
     "data": {
      "text/html": [
       "<div>\n",
       "<style scoped>\n",
       "    .dataframe tbody tr th:only-of-type {\n",
       "        vertical-align: middle;\n",
       "    }\n",
       "\n",
       "    .dataframe tbody tr th {\n",
       "        vertical-align: top;\n",
       "    }\n",
       "\n",
       "    .dataframe thead th {\n",
       "        text-align: right;\n",
       "    }\n",
       "</style>\n",
       "<table border=\"1\" class=\"dataframe\">\n",
       "  <thead>\n",
       "    <tr style=\"text-align: right;\">\n",
       "      <th></th>\n",
       "      <th>Comment</th>\n",
       "      <th>Class</th>\n",
       "      <th>clean_text</th>\n",
       "    </tr>\n",
       "  </thead>\n",
       "  <tbody>\n",
       "    <tr>\n",
       "      <th>0</th>\n",
       "      <td>خيبة الأمل تشاؤما تقولا  عزم لكفالة اليتيم بال...</td>\n",
       "      <td>0.0</td>\n",
       "      <td>خيبة الأمل تشاؤما تقولا  عزم لكفالة اليتيم بال...</td>\n",
       "    </tr>\n",
       "    <tr>\n",
       "      <th>1</th>\n",
       "      <td>ا اسفا للجزره لماذا تنشر رااهذا طرقه الاحرار</td>\n",
       "      <td>0.0</td>\n",
       "      <td>ا اسفا للجزره لماذا تنشر رااهذا طرقه الاحرار</td>\n",
       "    </tr>\n",
       "    <tr>\n",
       "      <th>2</th>\n",
       "      <td>ا دار الحبب لاتشتم اخوان امام العرب افهم ا اخ</td>\n",
       "      <td>0.0</td>\n",
       "      <td>ا دار الحبب لاتشتم اخوان امام العرب افهم ا اخ</td>\n",
       "    </tr>\n",
       "    <tr>\n",
       "      <th>3</th>\n",
       "      <td>االسيد الملاح</td>\n",
       "      <td>0.0</td>\n",
       "      <td>االسيد الملاح</td>\n",
       "    </tr>\n",
       "    <tr>\n",
       "      <th>4</th>\n",
       "      <td>ابتسمة جزائرية بنكهةةة فلسطنية هههههههه</td>\n",
       "      <td>0.0</td>\n",
       "      <td>ابتسمة جزائرية بنكهةةة فلسطنية هههههههه</td>\n",
       "    </tr>\n",
       "  </tbody>\n",
       "</table>\n",
       "</div>"
      ],
      "text/plain": [
       "                                             Comment  Class  \\\n",
       "0  خيبة الأمل تشاؤما تقولا  عزم لكفالة اليتيم بال...    0.0   \n",
       "1       ا اسفا للجزره لماذا تنشر رااهذا طرقه الاحرار    0.0   \n",
       "2      ا دار الحبب لاتشتم اخوان امام العرب افهم ا اخ    0.0   \n",
       "3                                      االسيد الملاح    0.0   \n",
       "4            ابتسمة جزائرية بنكهةةة فلسطنية هههههههه    0.0   \n",
       "\n",
       "                                          clean_text  \n",
       "0  خيبة الأمل تشاؤما تقولا  عزم لكفالة اليتيم بال...  \n",
       "1       ا اسفا للجزره لماذا تنشر رااهذا طرقه الاحرار  \n",
       "2      ا دار الحبب لاتشتم اخوان امام العرب افهم ا اخ  \n",
       "3                                      االسيد الملاح  \n",
       "4            ابتسمة جزائرية بنكهةةة فلسطنية هههههههه  "
      ]
     },
     "execution_count": 7,
     "metadata": {},
     "output_type": "execute_result"
    }
   ],
   "source": [
    "import pandas as pd\n",
    "import string\n",
    "df = pd.read_csv('FinalData.csv')\n",
    "df['clean_text'] = df['Comment']\n",
    "df['Class']\n",
    "df.dropna(subset=['clean_text'], inplace=True)\n",
    "df.head()"
   ]
  },
  {
   "cell_type": "markdown",
   "id": "e25ac859-406b-4a40-b657-045fa1aadb66",
   "metadata": {},
   "source": [
    "# Remove Punctuations "
   ]
  },
  {
   "cell_type": "code",
   "execution_count": 8,
   "id": "831e9ed7-f8ed-4a02-bc1d-1e51fb42a115",
   "metadata": {},
   "outputs": [],
   "source": [
    "def remove_punctuations(text):\n",
    "    punctuations = string.punctuation\n",
    "    return text.translate(str.maketrans('','', punctuations))"
   ]
  },
  {
   "cell_type": "code",
   "execution_count": 9,
   "id": "0a71ae03-f203-4e80-b069-99c2fdebd8a7",
   "metadata": {},
   "outputs": [
    {
     "data": {
      "text/html": [
       "<div>\n",
       "<style scoped>\n",
       "    .dataframe tbody tr th:only-of-type {\n",
       "        vertical-align: middle;\n",
       "    }\n",
       "\n",
       "    .dataframe tbody tr th {\n",
       "        vertical-align: top;\n",
       "    }\n",
       "\n",
       "    .dataframe thead th {\n",
       "        text-align: right;\n",
       "    }\n",
       "</style>\n",
       "<table border=\"1\" class=\"dataframe\">\n",
       "  <thead>\n",
       "    <tr style=\"text-align: right;\">\n",
       "      <th></th>\n",
       "      <th>Comment</th>\n",
       "      <th>Class</th>\n",
       "      <th>clean_text</th>\n",
       "    </tr>\n",
       "  </thead>\n",
       "  <tbody>\n",
       "    <tr>\n",
       "      <th>0</th>\n",
       "      <td>خيبة الأمل تشاؤما تقولا  عزم لكفالة اليتيم بال...</td>\n",
       "      <td>0.0</td>\n",
       "      <td>خيبة الأمل تشاؤما تقولا  عزم لكفالة اليتيم بال...</td>\n",
       "    </tr>\n",
       "    <tr>\n",
       "      <th>1</th>\n",
       "      <td>ا اسفا للجزره لماذا تنشر رااهذا طرقه الاحرار</td>\n",
       "      <td>0.0</td>\n",
       "      <td>ا اسفا للجزره لماذا تنشر رااهذا طرقه الاحرار</td>\n",
       "    </tr>\n",
       "    <tr>\n",
       "      <th>2</th>\n",
       "      <td>ا دار الحبب لاتشتم اخوان امام العرب افهم ا اخ</td>\n",
       "      <td>0.0</td>\n",
       "      <td>ا دار الحبب لاتشتم اخوان امام العرب افهم ا اخ</td>\n",
       "    </tr>\n",
       "    <tr>\n",
       "      <th>3</th>\n",
       "      <td>االسيد الملاح</td>\n",
       "      <td>0.0</td>\n",
       "      <td>االسيد الملاح</td>\n",
       "    </tr>\n",
       "    <tr>\n",
       "      <th>4</th>\n",
       "      <td>ابتسمة جزائرية بنكهةةة فلسطنية هههههههه</td>\n",
       "      <td>0.0</td>\n",
       "      <td>ابتسمة جزائرية بنكهةةة فلسطنية هههههههه</td>\n",
       "    </tr>\n",
       "  </tbody>\n",
       "</table>\n",
       "</div>"
      ],
      "text/plain": [
       "                                             Comment  Class  \\\n",
       "0  خيبة الأمل تشاؤما تقولا  عزم لكفالة اليتيم بال...    0.0   \n",
       "1       ا اسفا للجزره لماذا تنشر رااهذا طرقه الاحرار    0.0   \n",
       "2      ا دار الحبب لاتشتم اخوان امام العرب افهم ا اخ    0.0   \n",
       "3                                      االسيد الملاح    0.0   \n",
       "4            ابتسمة جزائرية بنكهةةة فلسطنية هههههههه    0.0   \n",
       "\n",
       "                                          clean_text  \n",
       "0  خيبة الأمل تشاؤما تقولا  عزم لكفالة اليتيم بال...  \n",
       "1       ا اسفا للجزره لماذا تنشر رااهذا طرقه الاحرار  \n",
       "2      ا دار الحبب لاتشتم اخوان امام العرب افهم ا اخ  \n",
       "3                                      االسيد الملاح  \n",
       "4            ابتسمة جزائرية بنكهةةة فلسطنية هههههههه  "
      ]
     },
     "execution_count": 9,
     "metadata": {},
     "output_type": "execute_result"
    }
   ],
   "source": [
    "df['clean_text'] = df['clean_text'].apply(lambda x: remove_punctuations(x))\n",
    "df.head()"
   ]
  },
  {
   "cell_type": "markdown",
   "id": "2038de11-61f4-4e2d-8c46-c2236d66a335",
   "metadata": {},
   "source": [
    "# Removal of Stopwords "
   ]
  },
  {
   "cell_type": "code",
   "execution_count": 11,
   "id": "db20ee3e-4748-4275-8ad9-f8d579870711",
   "metadata": {},
   "outputs": [
    {
     "name": "stdout",
     "output_type": "stream",
     "text": [
      "Defaulting to user installation because normal site-packages is not writeable\n",
      "Looking in indexes: https://pypi.org/simple, https://pip.repos.neuron.amazonaws.com\n",
      "Collecting nltk\n",
      "  Downloading nltk-3.8.1-py3-none-any.whl (1.5 MB)\n",
      "\u001b[2K     \u001b[90m━━━━━━━━━━━━━━━━━━━━━━━━━━━━━━━━━━━━━━━━\u001b[0m \u001b[32m1.5/1.5 MB\u001b[0m \u001b[31m9.5 MB/s\u001b[0m eta \u001b[36m0:00:00\u001b[0m0:00:01\u001b[0m\n",
      "\u001b[?25hRequirement already satisfied: click in /usr/local/lib/python3.7/site-packages (from nltk) (8.0.3)\n",
      "Requirement already satisfied: joblib in /usr/local/lib/python3.7/site-packages (from nltk) (1.1.0)\n",
      "Requirement already satisfied: regex>=2021.8.3 in /home/ec2-user/.local/lib/python3.7/site-packages (from nltk) (2023.8.8)\n",
      "Requirement already satisfied: tqdm in /usr/local/lib/python3.7/site-packages (from nltk) (4.62.3)\n",
      "Requirement already satisfied: importlib-metadata in /usr/local/lib/python3.7/site-packages (from click->nltk) (4.10.1)\n",
      "Requirement already satisfied: zipp>=0.5 in /usr/local/lib/python3.7/site-packages (from importlib-metadata->click->nltk) (3.7.0)\n",
      "Requirement already satisfied: typing-extensions>=3.6.4 in /usr/local/lib/python3.7/site-packages (from importlib-metadata->click->nltk) (4.7.1)\n",
      "Installing collected packages: nltk\n",
      "\u001b[33m  WARNING: The script nltk is installed in '/home/ec2-user/.local/bin' which is not on PATH.\n",
      "  Consider adding this directory to PATH or, if you prefer to suppress this warning, use --no-warn-script-location.\u001b[0m\u001b[33m\n",
      "\u001b[0mSuccessfully installed nltk-3.8.1\n"
     ]
    },
    {
     "name": "stderr",
     "output_type": "stream",
     "text": [
      "[nltk_data] Downloading package stopwords to\n",
      "[nltk_data]     /home/ec2-user/nltk_data...\n",
      "[nltk_data]   Unzipping corpora/stopwords.zip.\n"
     ]
    },
    {
     "data": {
      "text/plain": [
       "'إذ, إذا, إذما, إذن, أف, أقل, أكثر, ألا, إلا, التي, الذي, الذين, اللاتي, اللائي, اللتان, اللتيا, اللتين, اللذان, اللذين, اللواتي, إلى, إليك, إليكم, إليكما, إليكن, أم, أما, أما, إما, أن, إن, إنا, أنا, أنت, أنتم, أنتما, أنتن, إنما, إنه, أنى, أنى, آه, آها, أو, أولاء, أولئك, أوه, آي, أي, أيها, إي, أين, أين, أينما, إيه, بخ, بس, بعد, بعض, بك, بكم, بكم, بكما, بكن, بل, بلى, بما, بماذا, بمن, بنا, به, بها, بهم, بهما, بهن, بي, بين, بيد, تلك, تلكم, تلكما, ته, تي, تين, تينك, ثم, ثمة, حاشا, حبذا, حتى, حيث, حيثما, حين, خلا, دون, ذا, ذات, ذاك, ذان, ذانك, ذلك, ذلكم, ذلكما, ذلكن, ذه, ذو, ذوا, ذواتا, ذواتي, ذي, ذين, ذينك, ريث, سوف, سوى, شتان, عدا, عسى, عل, على, عليك, عليه, عما, عن, عند, غير, فإذا, فإن, فلا, فمن, في, فيم, فيما, فيه, فيها, قد, كأن, كأنما, كأي, كأين, كذا, كذلك, كل, كلا, كلاهما, كلتا, كلما, كليكما, كليهما, كم, كم, كما, كي, كيت, كيف, كيفما, لا, لاسيما, لدى, لست, لستم, لستما, لستن, لسن, لسنا, لعل, لك, لكم, لكما, لكن, لكنما, لكي, لكيلا, لم, لما, لن, لنا, له, لها, لهم, لهما, لهن, لو, لولا, لوما, لي, لئن, ليت, ليس, ليسا, ليست, ليستا, ليسوا, ما, ماذا, متى, مذ, مع, مما, ممن, من, منه, منها, منذ, مه, مهما, نحن, نحو, نعم, ها, هاتان, هاته, هاتي, هاتين, هاك, هاهنا, هذا, هذان, هذه, هذي, هذين, هكذا, هل, هلا, هم, هما, هن, هنا, هناك, هنالك, هو, هؤلاء, هي, هيا, هيت, هيهات, والذي, والذين, وإذ, وإذا, وإن, ولا, ولكن, ولو, وما, ومن, وهو, يا, أبٌ, أخٌ, حمٌ, فو, أنتِ, يناير, فبراير, مارس, أبريل, مايو, يونيو, يوليو, أغسطس, سبتمبر, أكتوبر, نوفمبر, ديسمبر, جانفي, فيفري, مارس, أفريل, ماي, جوان, جويلية, أوت, كانون, شباط, آذار, نيسان, أيار, حزيران, تموز, آب, أيلول, تشرين, دولار, دينار, ريال, درهم, ليرة, جنيه, قرش, مليم, فلس, هللة, سنتيم, يورو, ين, يوان, شيكل, واحد, اثنان, ثلاثة, أربعة, خمسة, ستة, سبعة, ثمانية, تسعة, عشرة, أحد, اثنا, اثني, إحدى, ثلاث, أربع, خمس, ست, سبع, ثماني, تسع, عشر, ثمان, سبت, أحد, اثنين, ثلاثاء, أربعاء, خميس, جمعة, أول, ثان, ثاني, ثالث, رابع, خامس, سادس, سابع, ثامن, تاسع, عاشر, حادي, أ, ب, ت, ث, ج, ح, خ, د, ذ, ر, ز, س, ش, ص, ض, ط, ظ, ع, غ, ف, ق, ك, ل, م, ن, ه, و, ي, ء, ى, آ, ؤ, ئ, أ, ة, ألف, باء, تاء, ثاء, جيم, حاء, خاء, دال, ذال, راء, زاي, سين, شين, صاد, ضاد, طاء, ظاء, عين, غين, فاء, قاف, كاف, لام, ميم, نون, هاء, واو, ياء, همزة, ي, نا, ك, كن, ه, إياه, إياها, إياهما, إياهم, إياهن, إياك, إياكما, إياكم, إياك, إياكن, إياي, إيانا, أولالك, تانِ, تانِك, تِه, تِي, تَيْنِ, ثمّ, ثمّة, ذانِ, ذِه, ذِي, ذَيْنِ, هَؤلاء, هَاتانِ, هَاتِه, هَاتِي, هَاتَيْنِ, هَذا, هَذانِ, هَذِه, هَذِي, هَذَيْنِ, الألى, الألاء, أل, أنّى, أيّ, ّأيّان, أنّى, أيّ, ّأيّان, ذيت, كأيّ, كأيّن, بضع, فلان, وا, آمينَ, آهِ, آهٍ, آهاً, أُفٍّ, أُفٍّ, أفٍّ, أمامك, أمامكَ, أوّهْ, إلَيْكَ, إلَيْكَ, إليكَ, إليكنّ, إيهٍ, بخٍ, بسّ, بَسْ, بطآن, بَلْهَ, حاي, حَذارِ, حيَّ, حيَّ, دونك, رويدك, سرعان, شتانَ, شَتَّانَ, صهْ, صهٍ, طاق, طَق, عَدَسْ, كِخ, مكانَك, مكانَك, مكانَك, مكانكم, مكانكما, مكانكنّ, نَخْ, هاكَ, هَجْ, هلم, هيّا, هَيْهات, وا, واهاً, وراءَك, وُشْكَانَ, وَيْ, يفعلان, تفعلان, يفعلون, تفعلون, تفعلين, اتخذ, ألفى, تخذ, ترك, تعلَّم, جعل, حجا, حبيب, خال, حسب, خال, درى, رأى, زعم, صبر, ظنَّ, عدَّ, علم, غادر, ذهب, وجد, ورد, وهب, أسكن, أطعم, أعطى, رزق, زود, سقى, كسا, أخبر, أرى, أعلم, أنبأ, حدَث, خبَّر, نبَّا, أفعل به, ما أفعله, بئس, ساء, طالما, قلما, لات, لكنَّ, ءَ, أجل, إذاً, أمّا, إمّا, إنَّ, أنًّ, أى, إى, أيا, ب, ثمَّ, جلل, جير, رُبَّ, س, علًّ, ف, كأنّ, كلَّا, كى, ل, لات, لعلَّ, لكنَّ, لكنَّ, م, نَّ, هلّا, وا, أل, إلّا, ت, ك, لمّا, ن, ه, و, ا, ي, تجاه, تلقاء, جميع, حسب, سبحان, شبه, لعمر, مثل, معاذ, أبو, أخو, حمو, فو, مئة, مئتان, ثلاثمئة, أربعمئة, خمسمئة, ستمئة, سبعمئة, ثمنمئة, تسعمئة, مائة, ثلاثمائة, أربعمائة, خمسمائة, ستمائة, سبعمائة, ثمانمئة, تسعمائة, عشرون, ثلاثون, اربعون, خمسون, ستون, سبعون, ثمانون, تسعون, عشرين, ثلاثين, اربعين, خمسين, ستين, سبعين, ثمانين, تسعين, بضع, نيف, أجمع, جميع, عامة, عين, نفس, لا سيما, أصلا, أهلا, أيضا, بؤسا, بعدا, بغتة, تعسا, حقا, حمدا, خلافا, خاصة, دواليك, سحقا, سرا, سمعا, صبرا, صدقا, صراحة, طرا, عجبا, عيانا, غالبا, فرادى, فضلا, قاطبة, كثيرا, لبيك, معاذ, أبدا, إزاء, أصلا, الآن, أمد, أمس, آنفا, آناء, أنّى, أول, أيّان, تارة, ثمّ, ثمّة, حقا, صباح, مساء, ضحوة, عوض, غدا, غداة, قطّ, كلّما, لدن, لمّا, مرّة, قبل, خلف, أمام, فوق, تحت, يمين, شمال, ارتدّ, استحال, أصبح, أضحى, آض, أمسى, انقلب, بات, تبدّل, تحوّل, حار, رجع, راح, صار, ظلّ, عاد, غدا, كان, ما انفك, ما برح, مادام, مازال, مافتئ, ابتدأ, أخذ, اخلولق, أقبل, انبرى, أنشأ, أوشك, جعل, حرى, شرع, طفق, علق, قام, كرب, كاد, هبّ'"
      ]
     },
     "execution_count": 11,
     "metadata": {},
     "output_type": "execute_result"
    }
   ],
   "source": [
    "!pip3 install nltk\n",
    "import nltk\n",
    "nltk.download('stopwords')\n",
    "\n",
    "from nltk.corpus import stopwords \n",
    "\", \".join(stopwords.words('arabic'))"
   ]
  },
  {
   "cell_type": "code",
   "execution_count": 12,
   "id": "df92af8d-0b85-41af-b6f3-62c37c8ffd44",
   "metadata": {},
   "outputs": [],
   "source": [
    "STOPWORDS = set(stopwords.words('arabic'))\n",
    "def remove_stopwords(text):\n",
    "    return \" \".join([word for word in text.split() if word not in STOPWORDS])"
   ]
  },
  {
   "cell_type": "code",
   "execution_count": 13,
   "id": "d19fd125-d646-4a74-aea0-df0e1a6efdbb",
   "metadata": {},
   "outputs": [
    {
     "data": {
      "text/html": [
       "<div>\n",
       "<style scoped>\n",
       "    .dataframe tbody tr th:only-of-type {\n",
       "        vertical-align: middle;\n",
       "    }\n",
       "\n",
       "    .dataframe tbody tr th {\n",
       "        vertical-align: top;\n",
       "    }\n",
       "\n",
       "    .dataframe thead th {\n",
       "        text-align: right;\n",
       "    }\n",
       "</style>\n",
       "<table border=\"1\" class=\"dataframe\">\n",
       "  <thead>\n",
       "    <tr style=\"text-align: right;\">\n",
       "      <th></th>\n",
       "      <th>Comment</th>\n",
       "      <th>Class</th>\n",
       "      <th>clean_text</th>\n",
       "    </tr>\n",
       "  </thead>\n",
       "  <tbody>\n",
       "    <tr>\n",
       "      <th>0</th>\n",
       "      <td>خيبة الأمل تشاؤما تقولا  عزم لكفالة اليتيم بال...</td>\n",
       "      <td>0.0</td>\n",
       "      <td>خيبة الأمل تشاؤما تقولا عزم لكفالة اليتيم بالع...</td>\n",
       "    </tr>\n",
       "    <tr>\n",
       "      <th>1</th>\n",
       "      <td>ا اسفا للجزره لماذا تنشر رااهذا طرقه الاحرار</td>\n",
       "      <td>0.0</td>\n",
       "      <td>اسفا للجزره لماذا تنشر رااهذا طرقه الاحرار</td>\n",
       "    </tr>\n",
       "    <tr>\n",
       "      <th>2</th>\n",
       "      <td>ا دار الحبب لاتشتم اخوان امام العرب افهم ا اخ</td>\n",
       "      <td>0.0</td>\n",
       "      <td>دار الحبب لاتشتم اخوان امام العرب افهم اخ</td>\n",
       "    </tr>\n",
       "    <tr>\n",
       "      <th>3</th>\n",
       "      <td>االسيد الملاح</td>\n",
       "      <td>0.0</td>\n",
       "      <td>االسيد الملاح</td>\n",
       "    </tr>\n",
       "    <tr>\n",
       "      <th>4</th>\n",
       "      <td>ابتسمة جزائرية بنكهةةة فلسطنية هههههههه</td>\n",
       "      <td>0.0</td>\n",
       "      <td>ابتسمة جزائرية بنكهةةة فلسطنية هههههههه</td>\n",
       "    </tr>\n",
       "  </tbody>\n",
       "</table>\n",
       "</div>"
      ],
      "text/plain": [
       "                                             Comment  Class  \\\n",
       "0  خيبة الأمل تشاؤما تقولا  عزم لكفالة اليتيم بال...    0.0   \n",
       "1       ا اسفا للجزره لماذا تنشر رااهذا طرقه الاحرار    0.0   \n",
       "2      ا دار الحبب لاتشتم اخوان امام العرب افهم ا اخ    0.0   \n",
       "3                                      االسيد الملاح    0.0   \n",
       "4            ابتسمة جزائرية بنكهةةة فلسطنية هههههههه    0.0   \n",
       "\n",
       "                                          clean_text  \n",
       "0  خيبة الأمل تشاؤما تقولا عزم لكفالة اليتيم بالع...  \n",
       "1         اسفا للجزره لماذا تنشر رااهذا طرقه الاحرار  \n",
       "2          دار الحبب لاتشتم اخوان امام العرب افهم اخ  \n",
       "3                                      االسيد الملاح  \n",
       "4            ابتسمة جزائرية بنكهةةة فلسطنية هههههههه  "
      ]
     },
     "execution_count": 13,
     "metadata": {},
     "output_type": "execute_result"
    }
   ],
   "source": [
    "df['clean_text'] = df['clean_text'].apply(lambda x: remove_stopwords(x))\n",
    "df.head()"
   ]
  },
  {
   "cell_type": "markdown",
   "id": "8bd5dc40-d887-4e25-ade0-4f42c0ed81c4",
   "metadata": {},
   "source": [
    "# Removal of Special Characters + Emojis\n"
   ]
  },
  {
   "cell_type": "code",
   "execution_count": 14,
   "id": "b4ccea99-39d8-4155-80b2-62fb09fb2b3a",
   "metadata": {},
   "outputs": [],
   "source": [
    "import re\n",
    "def remove_special_characters(text):\n",
    "# Remove emojis\n",
    "    text = re.sub(r\"\\s+|\\\\n\", \" \", text)  # Remove extra spaces and newlines\n",
    "    text = re.sub(r\":[a-z]+:\", \"\", text)  # Remove emojis represented by :emoji_name:\n",
    "    text = re.sub(r\"[\\U0001F600-\\U0001F64F]|[\\U0001F300-\\U0001F5FF]|[\\U0001F680-\\U0001F6FF]|[\\U0001F1E0-\\U0001F1FF]|[\\U00002702-\\U000027B0]|[\\U000024C2-\\U0001F251]\", \"\", text)  # Remove emojis represented by Unicode characters\n",
    "    text = re.sub(r\"[^\\u0621-\\u064A\\s]\", \"\", text)  # Remove non-alphanumeric Arabic characters except spaces\n",
    "    return text "
   ]
  },
  {
   "cell_type": "code",
   "execution_count": 15,
   "id": "40160fcb-c766-4135-85d5-9fe476254f00",
   "metadata": {},
   "outputs": [
    {
     "data": {
      "text/html": [
       "<div>\n",
       "<style scoped>\n",
       "    .dataframe tbody tr th:only-of-type {\n",
       "        vertical-align: middle;\n",
       "    }\n",
       "\n",
       "    .dataframe tbody tr th {\n",
       "        vertical-align: top;\n",
       "    }\n",
       "\n",
       "    .dataframe thead th {\n",
       "        text-align: right;\n",
       "    }\n",
       "</style>\n",
       "<table border=\"1\" class=\"dataframe\">\n",
       "  <thead>\n",
       "    <tr style=\"text-align: right;\">\n",
       "      <th></th>\n",
       "      <th>Comment</th>\n",
       "      <th>Class</th>\n",
       "      <th>clean_text</th>\n",
       "    </tr>\n",
       "  </thead>\n",
       "  <tbody>\n",
       "    <tr>\n",
       "      <th>0</th>\n",
       "      <td>خيبة الأمل تشاؤما تقولا  عزم لكفالة اليتيم بال...</td>\n",
       "      <td>0.0</td>\n",
       "      <td>خيبة الأمل تشاؤما تقولا عزم لكفالة اليتيم بالع...</td>\n",
       "    </tr>\n",
       "    <tr>\n",
       "      <th>1</th>\n",
       "      <td>ا اسفا للجزره لماذا تنشر رااهذا طرقه الاحرار</td>\n",
       "      <td>0.0</td>\n",
       "      <td>اسفا للجزره لماذا تنشر رااهذا طرقه الاحرار</td>\n",
       "    </tr>\n",
       "    <tr>\n",
       "      <th>2</th>\n",
       "      <td>ا دار الحبب لاتشتم اخوان امام العرب افهم ا اخ</td>\n",
       "      <td>0.0</td>\n",
       "      <td>دار الحبب لاتشتم اخوان امام العرب افهم اخ</td>\n",
       "    </tr>\n",
       "    <tr>\n",
       "      <th>3</th>\n",
       "      <td>االسيد الملاح</td>\n",
       "      <td>0.0</td>\n",
       "      <td>االسيد الملاح</td>\n",
       "    </tr>\n",
       "    <tr>\n",
       "      <th>4</th>\n",
       "      <td>ابتسمة جزائرية بنكهةةة فلسطنية هههههههه</td>\n",
       "      <td>0.0</td>\n",
       "      <td>ابتسمة جزائرية بنكهةةة فلسطنية هههههههه</td>\n",
       "    </tr>\n",
       "  </tbody>\n",
       "</table>\n",
       "</div>"
      ],
      "text/plain": [
       "                                             Comment  Class  \\\n",
       "0  خيبة الأمل تشاؤما تقولا  عزم لكفالة اليتيم بال...    0.0   \n",
       "1       ا اسفا للجزره لماذا تنشر رااهذا طرقه الاحرار    0.0   \n",
       "2      ا دار الحبب لاتشتم اخوان امام العرب افهم ا اخ    0.0   \n",
       "3                                      االسيد الملاح    0.0   \n",
       "4            ابتسمة جزائرية بنكهةةة فلسطنية هههههههه    0.0   \n",
       "\n",
       "                                          clean_text  \n",
       "0  خيبة الأمل تشاؤما تقولا عزم لكفالة اليتيم بالع...  \n",
       "1         اسفا للجزره لماذا تنشر رااهذا طرقه الاحرار  \n",
       "2          دار الحبب لاتشتم اخوان امام العرب افهم اخ  \n",
       "3                                      االسيد الملاح  \n",
       "4            ابتسمة جزائرية بنكهةةة فلسطنية هههههههه  "
      ]
     },
     "execution_count": 15,
     "metadata": {},
     "output_type": "execute_result"
    }
   ],
   "source": [
    "df['clean_text'] = df['clean_text'].apply(lambda x: remove_special_characters(x))\n",
    "df.head()\n"
   ]
  },
  {
   "cell_type": "markdown",
   "id": "3d12f6f3-b2e5-411b-ad65-aee5be0036be",
   "metadata": {},
   "source": [
    "# Removal of Digits \n"
   ]
  },
  {
   "cell_type": "code",
   "execution_count": 16,
   "id": "48616941-ed03-47f3-9e5c-80fff575be12",
   "metadata": {},
   "outputs": [],
   "source": [
    "import re\n",
    "\n",
    "def remove_numbers(text):\n",
    "    # Remove all numbers using regular expression\n",
    "    text_without_numbers = re.sub(r'\\d+', '', text)\n",
    "    \n",
    "    return text_without_numbers"
   ]
  },
  {
   "cell_type": "code",
   "execution_count": 17,
   "id": "44cc532d-3737-40f0-bb0c-b5d5a70477b8",
   "metadata": {},
   "outputs": [
    {
     "data": {
      "text/html": [
       "<div>\n",
       "<style scoped>\n",
       "    .dataframe tbody tr th:only-of-type {\n",
       "        vertical-align: middle;\n",
       "    }\n",
       "\n",
       "    .dataframe tbody tr th {\n",
       "        vertical-align: top;\n",
       "    }\n",
       "\n",
       "    .dataframe thead th {\n",
       "        text-align: right;\n",
       "    }\n",
       "</style>\n",
       "<table border=\"1\" class=\"dataframe\">\n",
       "  <thead>\n",
       "    <tr style=\"text-align: right;\">\n",
       "      <th></th>\n",
       "      <th>Comment</th>\n",
       "      <th>Class</th>\n",
       "      <th>clean_text</th>\n",
       "    </tr>\n",
       "  </thead>\n",
       "  <tbody>\n",
       "    <tr>\n",
       "      <th>0</th>\n",
       "      <td>خيبة الأمل تشاؤما تقولا  عزم لكفالة اليتيم بال...</td>\n",
       "      <td>0.0</td>\n",
       "      <td>خيبة الأمل تشاؤما تقولا عزم لكفالة اليتيم بالع...</td>\n",
       "    </tr>\n",
       "    <tr>\n",
       "      <th>1</th>\n",
       "      <td>ا اسفا للجزره لماذا تنشر رااهذا طرقه الاحرار</td>\n",
       "      <td>0.0</td>\n",
       "      <td>اسفا للجزره لماذا تنشر رااهذا طرقه الاحرار</td>\n",
       "    </tr>\n",
       "    <tr>\n",
       "      <th>2</th>\n",
       "      <td>ا دار الحبب لاتشتم اخوان امام العرب افهم ا اخ</td>\n",
       "      <td>0.0</td>\n",
       "      <td>دار الحبب لاتشتم اخوان امام العرب افهم اخ</td>\n",
       "    </tr>\n",
       "    <tr>\n",
       "      <th>3</th>\n",
       "      <td>االسيد الملاح</td>\n",
       "      <td>0.0</td>\n",
       "      <td>االسيد الملاح</td>\n",
       "    </tr>\n",
       "    <tr>\n",
       "      <th>4</th>\n",
       "      <td>ابتسمة جزائرية بنكهةةة فلسطنية هههههههه</td>\n",
       "      <td>0.0</td>\n",
       "      <td>ابتسمة جزائرية بنكهةةة فلسطنية هههههههه</td>\n",
       "    </tr>\n",
       "  </tbody>\n",
       "</table>\n",
       "</div>"
      ],
      "text/plain": [
       "                                             Comment  Class  \\\n",
       "0  خيبة الأمل تشاؤما تقولا  عزم لكفالة اليتيم بال...    0.0   \n",
       "1       ا اسفا للجزره لماذا تنشر رااهذا طرقه الاحرار    0.0   \n",
       "2      ا دار الحبب لاتشتم اخوان امام العرب افهم ا اخ    0.0   \n",
       "3                                      االسيد الملاح    0.0   \n",
       "4            ابتسمة جزائرية بنكهةةة فلسطنية هههههههه    0.0   \n",
       "\n",
       "                                          clean_text  \n",
       "0  خيبة الأمل تشاؤما تقولا عزم لكفالة اليتيم بالع...  \n",
       "1         اسفا للجزره لماذا تنشر رااهذا طرقه الاحرار  \n",
       "2          دار الحبب لاتشتم اخوان امام العرب افهم اخ  \n",
       "3                                      االسيد الملاح  \n",
       "4            ابتسمة جزائرية بنكهةةة فلسطنية هههههههه  "
      ]
     },
     "execution_count": 17,
     "metadata": {},
     "output_type": "execute_result"
    }
   ],
   "source": [
    "df['clean_text'] = df['clean_text'].apply(lambda x: remove_numbers(x))\n",
    "df.head()"
   ]
  },
  {
   "cell_type": "markdown",
   "id": "a2e430d4-6260-4019-88a1-34a20c083719",
   "metadata": {},
   "source": [
    "# Removal of Spaces \n"
   ]
  },
  {
   "cell_type": "code",
   "execution_count": 18,
   "id": "b103bfaf-8c3f-42be-bbda-eda5836e403d",
   "metadata": {},
   "outputs": [
    {
     "data": {
      "text/html": [
       "<div>\n",
       "<style scoped>\n",
       "    .dataframe tbody tr th:only-of-type {\n",
       "        vertical-align: middle;\n",
       "    }\n",
       "\n",
       "    .dataframe tbody tr th {\n",
       "        vertical-align: top;\n",
       "    }\n",
       "\n",
       "    .dataframe thead th {\n",
       "        text-align: right;\n",
       "    }\n",
       "</style>\n",
       "<table border=\"1\" class=\"dataframe\">\n",
       "  <thead>\n",
       "    <tr style=\"text-align: right;\">\n",
       "      <th></th>\n",
       "      <th>Comment</th>\n",
       "      <th>Class</th>\n",
       "      <th>clean_text</th>\n",
       "    </tr>\n",
       "  </thead>\n",
       "  <tbody>\n",
       "    <tr>\n",
       "      <th>0</th>\n",
       "      <td>خيبة الأمل تشاؤما تقولا  عزم لكفالة اليتيم بال...</td>\n",
       "      <td>0.0</td>\n",
       "      <td>خيبة الأمل تشاؤما تقولا عزم لكفالة اليتيم بالع...</td>\n",
       "    </tr>\n",
       "    <tr>\n",
       "      <th>1</th>\n",
       "      <td>ا اسفا للجزره لماذا تنشر رااهذا طرقه الاحرار</td>\n",
       "      <td>0.0</td>\n",
       "      <td>اسفا للجزره لماذا تنشر رااهذا طرقه الاحرار</td>\n",
       "    </tr>\n",
       "    <tr>\n",
       "      <th>2</th>\n",
       "      <td>ا دار الحبب لاتشتم اخوان امام العرب افهم ا اخ</td>\n",
       "      <td>0.0</td>\n",
       "      <td>دار الحبب لاتشتم اخوان امام العرب افهم اخ</td>\n",
       "    </tr>\n",
       "    <tr>\n",
       "      <th>3</th>\n",
       "      <td>االسيد الملاح</td>\n",
       "      <td>0.0</td>\n",
       "      <td>االسيد الملاح</td>\n",
       "    </tr>\n",
       "    <tr>\n",
       "      <th>4</th>\n",
       "      <td>ابتسمة جزائرية بنكهةةة فلسطنية هههههههه</td>\n",
       "      <td>0.0</td>\n",
       "      <td>ابتسمة جزائرية بنكهةةة فلسطنية هههههههه</td>\n",
       "    </tr>\n",
       "  </tbody>\n",
       "</table>\n",
       "</div>"
      ],
      "text/plain": [
       "                                             Comment  Class  \\\n",
       "0  خيبة الأمل تشاؤما تقولا  عزم لكفالة اليتيم بال...    0.0   \n",
       "1       ا اسفا للجزره لماذا تنشر رااهذا طرقه الاحرار    0.0   \n",
       "2      ا دار الحبب لاتشتم اخوان امام العرب افهم ا اخ    0.0   \n",
       "3                                      االسيد الملاح    0.0   \n",
       "4            ابتسمة جزائرية بنكهةةة فلسطنية هههههههه    0.0   \n",
       "\n",
       "                                          clean_text  \n",
       "0  خيبة الأمل تشاؤما تقولا عزم لكفالة اليتيم بالع...  \n",
       "1         اسفا للجزره لماذا تنشر رااهذا طرقه الاحرار  \n",
       "2          دار الحبب لاتشتم اخوان امام العرب افهم اخ  \n",
       "3                                      االسيد الملاح  \n",
       "4            ابتسمة جزائرية بنكهةةة فلسطنية هههههههه  "
      ]
     },
     "execution_count": 18,
     "metadata": {},
     "output_type": "execute_result"
    }
   ],
   "source": [
    "# To remove leading and trailing spaces\n",
    "df['clean_text'] = df['clean_text'].str.strip()\n",
    "\n",
    "# To replace multiple spaces with a single space\n",
    "df['clean_text'] = df['clean_text'].apply(lambda x: ' '.join(x.split()))\n",
    "\n",
    "# Show the first few rows to confirm\n",
    "df.head()\n"
   ]
  },
  {
   "cell_type": "markdown",
   "id": "7548ead5-8899-4da5-9468-a60ee2c9fedf",
   "metadata": {},
   "source": [
    "# Removal of repeating chars\n"
   ]
  },
  {
   "cell_type": "code",
   "execution_count": 19,
   "id": "fb1f75fa-023b-4204-b295-541e3d576756",
   "metadata": {},
   "outputs": [
    {
     "name": "stdout",
     "output_type": "stream",
     "text": [
      "                                                 Comment  Class  \\\n",
      "0      خيبة الأمل تشاؤما تقولا  عزم لكفالة اليتيم بال...    0.0   \n",
      "1           ا اسفا للجزره لماذا تنشر رااهذا طرقه الاحرار    0.0   \n",
      "2          ا دار الحبب لاتشتم اخوان امام العرب افهم ا اخ    0.0   \n",
      "3                                          االسيد الملاح    0.0   \n",
      "4                ابتسمة جزائرية بنكهةةة فلسطنية هههههههه    0.0   \n",
      "...                                                  ...    ...   \n",
      "11715  أخطر على الجميعاء الفكر الوهابي التخلوفي العنص...    2.0   \n",
      "11716  شهوة محمد رسول الله لممارسة الجنس مع مارية الق...    2.0   \n",
      "11717  اقتلونا او اقتلوا الزنوج لا امكانية للتعايش بيننا    2.0   \n",
      "11718  فخر الإرهابيين , اللاعب السنغالي المسلم إدريسا...    2.0   \n",
      "11719  يقول الأمير عبدالقادر ينبث الشعر في الرأس والي...    2.0   \n",
      "\n",
      "                                              clean_text  \n",
      "0      خيبة الأمل تشاؤما تقولا عزم لكفالة اليتيم بالع...  \n",
      "1               اسفا لجزره لماذا تنشر راهذا طرقه الاحرار  \n",
      "2               دار الحب لاتشتم اخوان امام العرب افهم اخ  \n",
      "3                                           السيد الملاح  \n",
      "4                         ابتسمة جزائرية بنكهة فلسطنية ه  \n",
      "...                                                  ...  \n",
      "11715  أخطر الجميعاء الفكر الوهابي التخلوفي العنصوري ...  \n",
      "11716  شهوة محمد رسول اله لمارسة الجنس مارية القبطية ...  \n",
      "11717       اقتلونا او اقتلوا الزنوج امكانية لتعايش بينا  \n",
      "11718  فخر الإرهابين الاعب السنغالي المسلم إدريسا غان...  \n",
      "11719  يقول الأمير عبدالقادر ينبث الشعر الرأس واليدي ...  \n",
      "\n",
      "[11720 rows x 3 columns]\n"
     ]
    }
   ],
   "source": [
    "import re\n",
    "import pandas as pd\n",
    "\n",
    "def remove_repeating_chars(text):\n",
    "    return re.sub(r'(.)\\1+', r'\\1', text)\n",
    "\n",
    "# Apply the function\n",
    "df['clean_text'] = df['clean_text'].apply(remove_repeating_chars)\n",
    "\n",
    "# Show the DataFrame\n",
    "print(df)\n"
   ]
  },
  {
   "cell_type": "markdown",
   "id": "23e3c465-2aec-40fb-9259-41390853821d",
   "metadata": {},
   "source": [
    "# Floating point numbers to Integer for Class Column\n"
   ]
  },
  {
   "cell_type": "code",
   "execution_count": 20,
   "id": "33490f24-7a6e-404c-aab2-b90c336d3210",
   "metadata": {},
   "outputs": [
    {
     "data": {
      "text/html": [
       "<div>\n",
       "<style scoped>\n",
       "    .dataframe tbody tr th:only-of-type {\n",
       "        vertical-align: middle;\n",
       "    }\n",
       "\n",
       "    .dataframe tbody tr th {\n",
       "        vertical-align: top;\n",
       "    }\n",
       "\n",
       "    .dataframe thead th {\n",
       "        text-align: right;\n",
       "    }\n",
       "</style>\n",
       "<table border=\"1\" class=\"dataframe\">\n",
       "  <thead>\n",
       "    <tr style=\"text-align: right;\">\n",
       "      <th></th>\n",
       "      <th>Comment</th>\n",
       "      <th>Class</th>\n",
       "      <th>clean_text</th>\n",
       "    </tr>\n",
       "  </thead>\n",
       "  <tbody>\n",
       "    <tr>\n",
       "      <th>0</th>\n",
       "      <td>خيبة الأمل تشاؤما تقولا  عزم لكفالة اليتيم بال...</td>\n",
       "      <td>0</td>\n",
       "      <td>خيبة الأمل تشاؤما تقولا عزم لكفالة اليتيم بالع...</td>\n",
       "    </tr>\n",
       "    <tr>\n",
       "      <th>1</th>\n",
       "      <td>ا اسفا للجزره لماذا تنشر رااهذا طرقه الاحرار</td>\n",
       "      <td>0</td>\n",
       "      <td>اسفا لجزره لماذا تنشر راهذا طرقه الاحرار</td>\n",
       "    </tr>\n",
       "    <tr>\n",
       "      <th>2</th>\n",
       "      <td>ا دار الحبب لاتشتم اخوان امام العرب افهم ا اخ</td>\n",
       "      <td>0</td>\n",
       "      <td>دار الحب لاتشتم اخوان امام العرب افهم اخ</td>\n",
       "    </tr>\n",
       "    <tr>\n",
       "      <th>3</th>\n",
       "      <td>االسيد الملاح</td>\n",
       "      <td>0</td>\n",
       "      <td>السيد الملاح</td>\n",
       "    </tr>\n",
       "    <tr>\n",
       "      <th>4</th>\n",
       "      <td>ابتسمة جزائرية بنكهةةة فلسطنية هههههههه</td>\n",
       "      <td>0</td>\n",
       "      <td>ابتسمة جزائرية بنكهة فلسطنية ه</td>\n",
       "    </tr>\n",
       "  </tbody>\n",
       "</table>\n",
       "</div>"
      ],
      "text/plain": [
       "                                             Comment  Class  \\\n",
       "0  خيبة الأمل تشاؤما تقولا  عزم لكفالة اليتيم بال...      0   \n",
       "1       ا اسفا للجزره لماذا تنشر رااهذا طرقه الاحرار      0   \n",
       "2      ا دار الحبب لاتشتم اخوان امام العرب افهم ا اخ      0   \n",
       "3                                      االسيد الملاح      0   \n",
       "4            ابتسمة جزائرية بنكهةةة فلسطنية هههههههه      0   \n",
       "\n",
       "                                          clean_text  \n",
       "0  خيبة الأمل تشاؤما تقولا عزم لكفالة اليتيم بالع...  \n",
       "1           اسفا لجزره لماذا تنشر راهذا طرقه الاحرار  \n",
       "2           دار الحب لاتشتم اخوان امام العرب افهم اخ  \n",
       "3                                       السيد الملاح  \n",
       "4                     ابتسمة جزائرية بنكهة فلسطنية ه  "
      ]
     },
     "execution_count": 20,
     "metadata": {},
     "output_type": "execute_result"
    }
   ],
   "source": [
    "import pandas as pd\n",
    "import string\n",
    "\n",
    "# Convert Class to integer\n",
    "df['Class'] = df['Class'].astype(int)\n",
    "\n",
    "# Show the first few records\n",
    "df.head()\n"
   ]
  },
  {
   "cell_type": "markdown",
   "id": "1ce2fe29-2d7b-475c-b923-11a21f656d57",
   "metadata": {},
   "source": [
    "# Exporting Clean Data "
   ]
  },
  {
   "cell_type": "code",
   "execution_count": 22,
   "id": "a41d0db7-f451-4f2e-83f5-9b86441d3f99",
   "metadata": {},
   "outputs": [],
   "source": [
    "del df['Comment']"
   ]
  },
  {
   "cell_type": "code",
   "execution_count": 23,
   "id": "261d513d-dc2a-4c68-8c20-8ecbfe614b2c",
   "metadata": {},
   "outputs": [],
   "source": [
    "df.to_csv('UseThisClean.csv', index=False)"
   ]
  },
  {
   "cell_type": "code",
   "execution_count": null,
   "id": "6c3bc93d-fd3b-4ac5-b7c8-271073384dcf",
   "metadata": {},
   "outputs": [],
   "source": []
  }
 ],
 "metadata": {
  "kernelspec": {
   "display_name": "Python 3 (ipykernel)",
   "language": "python",
   "name": "python3"
  },
  "language_info": {
   "codemirror_mode": {
    "name": "ipython",
    "version": 3
   },
   "file_extension": ".py",
   "mimetype": "text/x-python",
   "name": "python",
   "nbconvert_exporter": "python",
   "pygments_lexer": "ipython3",
   "version": "3.7.16"
  }
 },
 "nbformat": 4,
 "nbformat_minor": 5
}
