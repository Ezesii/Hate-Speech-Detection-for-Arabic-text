{
 "cells": [
  {
   "cell_type": "raw",
   "id": "e2f6a3a1-342c-4c2b-b973-20f8b5464f76",
   "metadata": {},
   "source": [
    "Sentdex (23 may 2016) Beginning SVM from Scratch in Python, Python programming tutorials. Available at: https://pythonprogramming.net/svm-in-python-machine-learning-tutorial/ (Accessed: 17 September 2023). \n",
    "\n",
    "Edureka (2021) Support Vector Machine | SVM Tutorial | Machine learning training | Edureka | ML rewind - 1, YouTube. Available at: https://www.youtube.com/watch?v=6PtblAwRzVg (Accessed: 17 September 2023). "
   ]
  },
  {
   "cell_type": "markdown",
   "id": "ab9a92b6-48a7-4fe2-908b-1b00ad102daf",
   "metadata": {},
   "source": [
    "# SVM using Balanced Dataset + ngrams"
   ]
  },
  {
   "cell_type": "code",
   "execution_count": 1,
   "id": "cd227d22-46c8-4ecd-903e-8542e99076b1",
   "metadata": {},
   "outputs": [
    {
     "data": {
      "text/html": [
       "<div>\n",
       "<style scoped>\n",
       "    .dataframe tbody tr th:only-of-type {\n",
       "        vertical-align: middle;\n",
       "    }\n",
       "\n",
       "    .dataframe tbody tr th {\n",
       "        vertical-align: top;\n",
       "    }\n",
       "\n",
       "    .dataframe thead th {\n",
       "        text-align: right;\n",
       "    }\n",
       "</style>\n",
       "<table border=\"1\" class=\"dataframe\">\n",
       "  <thead>\n",
       "    <tr style=\"text-align: right;\">\n",
       "      <th></th>\n",
       "      <th>Class</th>\n",
       "      <th>clean_text</th>\n",
       "    </tr>\n",
       "  </thead>\n",
       "  <tbody>\n",
       "    <tr>\n",
       "      <th>0</th>\n",
       "      <td>0</td>\n",
       "      <td>خيبة الأمل تشاؤما تقولا عزم لكفالة اليتيم بالع...</td>\n",
       "    </tr>\n",
       "    <tr>\n",
       "      <th>1</th>\n",
       "      <td>0</td>\n",
       "      <td>اسفا لجزره لماذا تنشر راهذا طرقه الاحرار</td>\n",
       "    </tr>\n",
       "    <tr>\n",
       "      <th>2</th>\n",
       "      <td>0</td>\n",
       "      <td>دار الحب لاتشتم اخوان امام العرب افهم اخ</td>\n",
       "    </tr>\n",
       "    <tr>\n",
       "      <th>3</th>\n",
       "      <td>0</td>\n",
       "      <td>السيد الملاح</td>\n",
       "    </tr>\n",
       "    <tr>\n",
       "      <th>4</th>\n",
       "      <td>0</td>\n",
       "      <td>ابتسمة جزائرية بنكهة فلسطنية ه</td>\n",
       "    </tr>\n",
       "  </tbody>\n",
       "</table>\n",
       "</div>"
      ],
      "text/plain": [
       "   Class                                         clean_text\n",
       "0      0  خيبة الأمل تشاؤما تقولا عزم لكفالة اليتيم بالع...\n",
       "1      0           اسفا لجزره لماذا تنشر راهذا طرقه الاحرار\n",
       "2      0           دار الحب لاتشتم اخوان امام العرب افهم اخ\n",
       "3      0                                       السيد الملاح\n",
       "4      0                     ابتسمة جزائرية بنكهة فلسطنية ه"
      ]
     },
     "execution_count": 1,
     "metadata": {},
     "output_type": "execute_result"
    }
   ],
   "source": [
    "import numpy as np\n",
    "import re\n",
    "from sklearn.datasets import load_files\n",
    "import pickle\n",
    "import string\n",
    "import pandas as pd\n",
    "df = pd.read_csv('UseThisClean.csv')\n",
    "X = df['clean_text']\n",
    "y = df['Class']\n",
    "df.head()"
   ]
  },
  {
   "cell_type": "code",
   "execution_count": 2,
   "id": "e4b4ccb3-d24a-4dad-8c21-fa2bee7d7734",
   "metadata": {},
   "outputs": [],
   "source": [
    "import pandas as pd\n",
    "from sklearn.feature_extraction.text import CountVectorizer\n",
    "\n",
    "# Handle missing values in data\n",
    "df['clean_text'] = df['clean_text'].fillna('')\n",
    "\n",
    "# Convert the cleaned text to Unicode if necessary\n",
    "df['clean_text'] = df['clean_text'].astype(str)\n",
    "\n",
    "# Initialize CountVectorizer with word n-grams\n",
    "ngram_range = (4, 4)  # Use 4-word  n-grams\n",
    "vectorizer = CountVectorizer(max_features=9000, min_df=2, max_df=0.8, ngram_range=ngram_range)\n",
    "\n",
    "# Fit and transform the cleaned text using CountVectorizer with word n-grams\n",
    "X = vectorizer.fit_transform(df['clean_text']).toarray()\n"
   ]
  },
  {
   "cell_type": "code",
   "execution_count": 3,
   "id": "e6532156-769f-47a2-809a-1a891fb747df",
   "metadata": {
    "tags": []
   },
   "outputs": [
    {
     "data": {
      "text/plain": [
       "SVC(kernel='linear', random_state=0)"
      ]
     },
     "execution_count": 3,
     "metadata": {},
     "output_type": "execute_result"
    }
   ],
   "source": [
    "from sklearn.model_selection import train_test_split\n",
    "from sklearn.svm import SVC\n",
    "\n",
    "# Split the data into training and testing sets\n",
    "X_train, X_test, y_train, y_test = train_test_split(X, df['Class'], test_size=0.2, random_state=42)\n",
    "\n",
    "from sklearn.svm import SVC\n",
    "\n",
    "# Initialize the Support Vector Machine classifier\n",
    "\n",
    "classifier = SVC(kernel='linear', random_state=0)\n",
    "\n",
    "# Fit the classifier on the training data\n",
    "\n",
    "classifier.fit(X_train, y_train)\n"
   ]
  },
  {
   "cell_type": "code",
   "execution_count": 4,
   "id": "c9805f9c-c1a8-4e59-8094-5230898b4728",
   "metadata": {},
   "outputs": [],
   "source": [
    "y_pred = classifier.predict(X_test)"
   ]
  },
  {
   "cell_type": "code",
   "execution_count": 5,
   "id": "bebbf860-5841-4a6e-b44a-c2f4217766b9",
   "metadata": {},
   "outputs": [
    {
     "name": "stdout",
     "output_type": "stream",
     "text": [
      "[[ 45 789   0]\n",
      " [ 10 764   0]\n",
      " [  3 714  19]]\n",
      "              precision    recall  f1-score   support\n",
      "\n",
      "           0       0.78      0.05      0.10       834\n",
      "           1       0.34      0.99      0.50       774\n",
      "           2       1.00      0.03      0.05       736\n",
      "\n",
      "    accuracy                           0.35      2344\n",
      "   macro avg       0.70      0.36      0.22      2344\n",
      "weighted avg       0.70      0.35      0.22      2344\n",
      "\n",
      "0.3532423208191126\n"
     ]
    }
   ],
   "source": [
    "from sklearn.metrics import classification_report, confusion_matrix, accuracy_score\n",
    "\n",
    "print(confusion_matrix(y_test,y_pred))\n",
    "print(classification_report(y_test,y_pred))\n",
    "print(accuracy_score(y_test, y_pred))"
   ]
  },
  {
   "cell_type": "code",
   "execution_count": null,
   "id": "8a4ff36a-9594-414d-82ff-8cd9ae11415f",
   "metadata": {},
   "outputs": [],
   "source": []
  }
 ],
 "metadata": {
  "kernelspec": {
   "display_name": "Python 3 (ipykernel)",
   "language": "python",
   "name": "python3"
  },
  "language_info": {
   "codemirror_mode": {
    "name": "ipython",
    "version": 3
   },
   "file_extension": ".py",
   "mimetype": "text/x-python",
   "name": "python",
   "nbconvert_exporter": "python",
   "pygments_lexer": "ipython3",
   "version": "3.7.16"
  }
 },
 "nbformat": 4,
 "nbformat_minor": 5
}
